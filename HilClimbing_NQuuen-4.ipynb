{
  "nbformat": 4,
  "nbformat_minor": 0,
  "metadata": {
    "colab": {
      "provenance": [],
      "authorship_tag": "ABX9TyOLjWIOLQlOHLFrxfKGVISC",
      "include_colab_link": true
    },
    "kernelspec": {
      "name": "python3",
      "display_name": "Python 3"
    },
    "language_info": {
      "name": "python"
    }
  },
  "cells": [
    {
      "cell_type": "markdown",
      "metadata": {
        "id": "view-in-github",
        "colab_type": "text"
      },
      "source": [
        "<a href=\"https://colab.research.google.com/github/MohanBabuc12/AI-LAB/blob/main/HilClimbing_NQuuen-4.ipynb\" target=\"_parent\"><img src=\"https://colab.research.google.com/assets/colab-badge.svg\" alt=\"Open In Colab\"/></a>"
      ]
    },
    {
      "cell_type": "code",
      "execution_count": 1,
      "metadata": {
        "colab": {
          "base_uri": "https://localhost:8080/"
        },
        "id": "wgqtj_cb1roE",
        "outputId": "13c26442-f2a9-4b14-a047-a43cb5763ca0"
      },
      "outputs": [
        {
          "output_type": "stream",
          "name": "stdout",
          "text": [
            "Final board configuration:\n",
            "0 0 1 0\n",
            "1 0 0 0\n",
            "0 0 0 1\n",
            "0 1 0 0\n",
            "\n"
          ]
        }
      ],
      "source": [
        "N = 4 # Size of the board\n",
        "\n",
        "# A utility function that prints the board representation based on the state\n",
        "def printBoard(state):\n",
        "    # Create a 2D array initialized to zeros to represent the board\n",
        "    board = [[0] * N for _ in range(N)]\n",
        "\n",
        "    # Place a queen on the board based on the current state\n",
        "    for col in range(N):\n",
        "        board[state[col]][col] = 1  # Place a queen in the specified row for each column\n",
        "\n",
        "    # Print the board row by row\n",
        "    for row in board:\n",
        "        print(*row)  # Unpack the row list for clean output\n",
        "    print()  # Print a blank line for better readability\n",
        "\n",
        "# A utility function that calculates the number of attacking queens\n",
        "def calculateObjective(state):\n",
        "    attacking = 0  # Initialize the count of attacking queens to zero\n",
        "\n",
        "    # Check each pair of queens to see if they attack each other\n",
        "    for i in range(N):\n",
        "        for j in range(i + 1, N):  # Only check queens to the right to avoid double counting\n",
        "            if state[i] == state[j]:  # Check if they are in the same row\n",
        "                attacking += 1  # Increment the count if they are in the same row\n",
        "            # Check if they are on the same diagonal\n",
        "            if abs(state[i] - state[j]) == abs(i - j):\n",
        "                attacking += 1  # Increment the count for diagonal attack\n",
        "\n",
        "    return attacking  # Return the total number of attacking pairs\n",
        "\n",
        "# This function finds the neighbor of the current state with the least objective value\n",
        "def getNeighbour(state):\n",
        "    best_state = state[:]  # Start with the current state as the best state\n",
        "    best_objective = calculateObjective(state)  # Calculate the current objective value (attacks)\n",
        "\n",
        "    # Loop through each queen to find a better configuration\n",
        "    for i in range(N):\n",
        "        original_row = state[i]  # Store the original row position of the queen\n",
        "\n",
        "        # Try moving the queen to each possible row in the current column\n",
        "        for j in range(N):\n",
        "            if j != original_row:  # Skip the current row\n",
        "                state[i] = j  # Move the queen to the new row\n",
        "                current_objective = calculateObjective(state)  # Calculate attacks for the new state\n",
        "\n",
        "                # Check if this new state has fewer attacks\n",
        "                if current_objective < best_objective:\n",
        "                    best_objective = current_objective  # Update best objective\n",
        "                    best_state = state[:]  # Update best state to the new configuration\n",
        "\n",
        "        state[i] = original_row  # Restore the original position of the queen\n",
        "\n",
        "    return best_state  # Return the best state found\n",
        "\n",
        "# The main function that implements the hill climbing algorithm\n",
        "def hillClimbing(state):\n",
        "    while True:  # Loop indefinitely until a solution is found or no better state exists\n",
        "        current_objective = calculateObjective(state)  # Calculate attacks for the current state\n",
        "\n",
        "        # Check if a solution has been found (no attacks)\n",
        "        if current_objective == 0:\n",
        "            print(\"Final board configuration:\")  # Indicate that a solution has been found\n",
        "            printBoard(state)  # Print the final configuration\n",
        "            break  # Exit the loop\n",
        "\n",
        "        next_state = getNeighbour(state)  # Find the best neighboring state\n",
        "\n",
        "        # Check if no better state was found (stuck in a local minimum)\n",
        "        if next_state == state:\n",
        "            print(\"Stuck in local minimum.\")  # Indicate that no improvement is possible\n",
        "            printBoard(state)  # Print the current state\n",
        "            break  # Exit the loop\n",
        "        else:\n",
        "            state = next_state  # Update the current state to the better neighbor\n",
        "\n",
        "# Driver code\n",
        "state = [1, 3, 2, 4]  # Initial position of queens, specifying their row positions\n",
        "\n",
        "# Run the hill climbing algorithm on the initial state\n",
        "hillClimbing(state)\n"
      ]
    },
    {
      "cell_type": "code",
      "source": [],
      "metadata": {
        "id": "RCt5j-511s_6"
      },
      "execution_count": null,
      "outputs": []
    }
  ]
}