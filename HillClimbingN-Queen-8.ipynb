{
  "nbformat": 4,
  "nbformat_minor": 0,
  "metadata": {
    "colab": {
      "provenance": [],
      "authorship_tag": "ABX9TyMY+3jUNvdRK7jC1gbjN7Dk",
      "include_colab_link": true
    },
    "kernelspec": {
      "name": "python3",
      "display_name": "Python 3"
    },
    "language_info": {
      "name": "python"
    }
  },
  "cells": [
    {
      "cell_type": "markdown",
      "metadata": {
        "id": "view-in-github",
        "colab_type": "text"
      },
      "source": [
        "<a href=\"https://colab.research.google.com/github/MohanBabuc12/AI-LAB/blob/main/HillClimbingN-Queen-8.ipynb\" target=\"_parent\"><img src=\"https://colab.research.google.com/assets/colab-badge.svg\" alt=\"Open In Colab\"/></a>"
      ]
    },
    {
      "cell_type": "code",
      "execution_count": 3,
      "metadata": {
        "colab": {
          "base_uri": "https://localhost:8080/"
        },
        "id": "r_WxyTW52f74",
        "outputId": "556976b1-b852-4528-fbc6-af5615244f3f"
      },
      "outputs": [
        {
          "output_type": "stream",
          "name": "stdout",
          "text": [
            "Stuck in local minimum.\n",
            "0 0 0 1 0 0 0 0\n",
            "0 0 0 0 0 1 0 0\n",
            "1 0 0 0 0 0 0 0\n",
            "0 1 0 0 0 0 0 0\n",
            "0 0 0 0 1 0 0 0\n",
            "0 0 1 0 0 0 0 0\n",
            "0 0 0 0 0 0 0 1\n",
            "0 0 0 0 0 0 1 0\n",
            "\n"
          ]
        }
      ],
      "source": [
        "import random\n",
        "\n",
        "N = 8  # Size of the board\n",
        "\n",
        "# A utility function that prints the board representation based on the state\n",
        "def printBoard(state):\n",
        "    board = [[0] * N for _ in range(N)]\n",
        "    for col in range(N):\n",
        "        board[state[col]][col] = 1  # Place a queen in the specified row for each column\n",
        "    for row in board:\n",
        "        print(*row)\n",
        "    print()\n",
        "\n",
        "# A utility function that calculates the number of attacking queens\n",
        "def calculateObjective(state):\n",
        "    attacking = 0\n",
        "    for i in range(N):\n",
        "        for j in range(i + 1, N):\n",
        "            if state[i] == state[j] or abs(state[i] - state[j]) == abs(i - j):\n",
        "                attacking += 1\n",
        "    return attacking\n",
        "\n",
        "# This function finds the neighbor of the current state with the least objective value\n",
        "def getNeighbour(state):\n",
        "    best_state = state[:]\n",
        "    best_objective = calculateObjective(state)\n",
        "    for i in range(N):\n",
        "        original_row = state[i]\n",
        "        for j in range(N):\n",
        "            if j != original_row:\n",
        "                state[i] = j\n",
        "                current_objective = calculateObjective(state)\n",
        "                if current_objective < best_objective:\n",
        "                    best_objective = current_objective\n",
        "                    best_state = state[:]\n",
        "        state[i] = original_row\n",
        "    return best_state\n",
        "\n",
        "# The main function that implements the hill climbing algorithm\n",
        "def hillClimbing(state):\n",
        "    while True:\n",
        "        current_objective = calculateObjective(state)\n",
        "        if current_objective == 0:\n",
        "            print(\"Final board configuration:\")\n",
        "            printBoard(state)\n",
        "            break\n",
        "        next_state = getNeighbour(state)\n",
        "        if next_state == state:\n",
        "            print(\"Stuck in local minimum.\")\n",
        "            printBoard(state)\n",
        "            break\n",
        "        else:\n",
        "            state = next_state\n",
        "\n",
        "# Driver code with a random initial position of queens\n",
        "state = [random.randint(0, N-1) for _ in range(N)]\n",
        "\n",
        "# Run the hill climbing algorithm on the initial state\n",
        "hillClimbing(state)\n"
      ]
    }
  ]
}